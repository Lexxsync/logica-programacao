{
  "nbformat": 4,
  "nbformat_minor": 0,
  "metadata": {
    "colab": {
      "provenance": [],
      "collapsed_sections": [
        "QH7rZUuFZLij",
        "qPjffJ7bcrFf",
        "XIXNC6Hzd5Yg"
      ],
      "authorship_tag": "ABX9TyOwtlb4VxC2YTH5jItMyNAj",
      "include_colab_link": true
    },
    "kernelspec": {
      "name": "python3",
      "display_name": "Python 3"
    },
    "language_info": {
      "name": "python"
    }
  },
  "cells": [
    {
      "cell_type": "markdown",
      "metadata": {
        "id": "view-in-github",
        "colab_type": "text"
      },
      "source": [
        "<a href=\"https://colab.research.google.com/github/Lexxsync/logica-programacao/blob/main/Estruturas_condicionais.ipynb\" target=\"_parent\"><img src=\"https://colab.research.google.com/assets/colab-badge.svg\" alt=\"Open In Colab\"/></a>"
      ]
    },
    {
      "cell_type": "markdown",
      "source": [
        "# Condicional\n"
      ],
      "metadata": {
        "id": "QH7rZUuFZLij"
      }
    },
    {
      "cell_type": "code",
      "execution_count": null,
      "metadata": {
        "colab": {
          "base_uri": "https://localhost:8080/"
        },
        "id": "bV69-wWuX5UO",
        "outputId": "88225a31-8490-4c54-97d5-5c5c565e16e2"
      },
      "outputs": [
        {
          "output_type": "stream",
          "name": "stdout",
          "text": [
            "Verdade\n"
          ]
        }
      ],
      "source": [
        "#if\n",
        "if 5 < 10:\n",
        "  print('Verdade')"
      ]
    },
    {
      "cell_type": "code",
      "source": [
        "#if/else\n",
        "\n",
        "num1 = 20\n",
        "num2 = 15\n",
        "if num1 > num2:\n",
        "    print('O num1 é maior')\n",
        "else:\n",
        "    print('O num2 é maior')"
      ],
      "metadata": {
        "colab": {
          "base_uri": "https://localhost:8080/"
        },
        "id": "-lTh7XnaZfCy",
        "outputId": "d39d43c6-5502-406f-c980-c5ed6f4aa3cc"
      },
      "execution_count": null,
      "outputs": [
        {
          "output_type": "stream",
          "name": "stdout",
          "text": [
            "O num2 é maior\n"
          ]
        }
      ]
    },
    {
      "cell_type": "code",
      "source": [
        "#if/elif/else\n",
        "\n",
        "num1 = 10\n",
        "num2 = 10\n",
        "if num1 > num2:\n",
        "  print('O num1 é maior')\n",
        "elif num1 < num2:\n",
        "  print('O num2 é maior')\n",
        "else:\n",
        "  print('Os números são iguais')"
      ],
      "metadata": {
        "colab": {
          "base_uri": "https://localhost:8080/"
        },
        "id": "zsN5ZRXJauGc",
        "outputId": "fd8423a5-e94f-43c7-bc38-4810e8612dd8"
      },
      "execution_count": null,
      "outputs": [
        {
          "output_type": "stream",
          "name": "stdout",
          "text": [
            "Os números são iguais\n"
          ]
        }
      ]
    },
    {
      "cell_type": "markdown",
      "source": [
        "# Condicional com operadores lógicos"
      ],
      "metadata": {
        "id": "qPjffJ7bcrFf"
      }
    },
    {
      "cell_type": "code",
      "source": [
        "num1 = 10\n",
        "num2 = 5\n",
        "num3 = 2\n",
        "if (num1 > num2) and (num1 > num3):\n",
        "  print('O num1 é o maior')\n",
        "else:\n",
        "  print('O num1 não é o maior')"
      ],
      "metadata": {
        "colab": {
          "base_uri": "https://localhost:8080/"
        },
        "id": "UeHiUdrSczPQ",
        "outputId": "ec5be6f7-8f57-4332-95b5-e99e91257595"
      },
      "execution_count": null,
      "outputs": [
        {
          "output_type": "stream",
          "name": "stdout",
          "text": [
            "O num1 é o maior\n"
          ]
        }
      ]
    },
    {
      "cell_type": "markdown",
      "source": [
        "# Exemplos"
      ],
      "metadata": {
        "id": "XIXNC6Hzd5Yg"
      }
    },
    {
      "cell_type": "code",
      "source": [
        "A_prédio1 = 20\n",
        "A_prédio2 = 20\n",
        "\n",
        "if A_prédio1 > A_prédio2:\n",
        "  print('O prédio 1 é o maior')\n",
        "elif A_prédio1 < A_prédio2:\n",
        "  print('O prédio 2 é o maior')\n",
        "else:\n",
        "  print('Ambos possuem a mesma altura')"
      ],
      "metadata": {
        "colab": {
          "base_uri": "https://localhost:8080/"
        },
        "id": "6Dx6QK7-d73l",
        "outputId": "f076f585-bf13-40b3-a847-d9f7eb8e44f2"
      },
      "execution_count": null,
      "outputs": [
        {
          "output_type": "stream",
          "name": "stdout",
          "text": [
            "Ambos possuem a mesma altura\n"
          ]
        }
      ]
    },
    {
      "cell_type": "code",
      "source": [
        "A_prédio1 = 45\n",
        "A_prédio2 = 40\n",
        "A_prédio3 = 35\n",
        "\n",
        "if (A_prédio1 > A_prédio2) and (A_prédio1 > A_prédio3):\n",
        "  print('O prédio 1 é maior')\n",
        "elif (A_prédio2 > A_prédio1) and (A_prédio2 > A_prédio3):\n",
        "  print('O prédio 2 é maior')\n",
        "else:\n",
        "  print('O prédio 3 é o maior')"
      ],
      "metadata": {
        "colab": {
          "base_uri": "https://localhost:8080/"
        },
        "id": "FRI6_qCRetHC",
        "outputId": "6f6191d2-dbd5-4c8d-ed37-4bd9df0f39b8"
      },
      "execution_count": null,
      "outputs": [
        {
          "output_type": "stream",
          "name": "stdout",
          "text": [
            "O prédio 1 é maior\n"
          ]
        }
      ]
    }
  ]
}