{
  "nbformat": 4,
  "nbformat_minor": 0,
  "metadata": {
    "colab": {
      "provenance": [],
      "authorship_tag": "ABX9TyPm8mw7TLysuNQtCY7fkT2s",
      "include_colab_link": true
    },
    "kernelspec": {
      "name": "python3",
      "display_name": "Python 3"
    },
    "language_info": {
      "name": "python"
    }
  },
  "cells": [
    {
      "cell_type": "markdown",
      "metadata": {
        "id": "view-in-github",
        "colab_type": "text"
      },
      "source": [
        "<a href=\"https://colab.research.google.com/github/Lexxsync/logica-programacao/blob/feature-2/Intera%C3%A7%C3%A3o_com_o_usu%C3%A1rio.ipynb\" target=\"_parent\"><img src=\"https://colab.research.google.com/assets/colab-badge.svg\" alt=\"Open In Colab\"/></a>"
      ]
    },
    {
      "cell_type": "code",
      "source": [
        "x = 5\n",
        "type(x)\n",
        "\n",
        "nome = 'Alexandre'\n",
        "type(nome)\n",
        "\n",
        "num ='100'\n",
        "num_convert = int(num)      #Converter a variável\n",
        "print(num_convert, type(num_convert))\n",
        "\n",
        "num_float = float(num)\n",
        "print(num_float, type(num_float))"
      ],
      "metadata": {
        "colab": {
          "base_uri": "https://localhost:8080/"
        },
        "id": "KLG8hPjN6cUv",
        "outputId": "4962b31b-653b-4108-bb37-e49175ddbd2c"
      },
      "execution_count": null,
      "outputs": [
        {
          "output_type": "stream",
          "name": "stdout",
          "text": [
            "100 <class 'int'>\n",
            "100.0 <class 'float'>\n"
          ]
        }
      ]
    },
    {
      "cell_type": "code",
      "source": [
        "nome = input('digite seu nome:')\n",
        "print('Olá', nome,'é um prazer conhece-lo!')"
      ],
      "metadata": {
        "colab": {
          "base_uri": "https://localhost:8080/"
        },
        "id": "ssTc86iX6eUv",
        "outputId": "888b92ef-f91a-4c2e-b6e5-d0c0f623547c"
      },
      "execution_count": null,
      "outputs": [
        {
          "output_type": "stream",
          "name": "stdout",
          "text": [
            "digite seu nome:Alexandr\n",
            "Olá Alexandr é um prazer conhece-lo!\n"
          ]
        }
      ]
    },
    {
      "cell_type": "code",
      "source": [
        "valor = input('digite o valor do produto:')\n",
        "print('Esse produto custa',valor,'reais')"
      ],
      "metadata": {
        "colab": {
          "base_uri": "https://localhost:8080/"
        },
        "id": "Mk82pMgb96C1",
        "outputId": "b6c0a8b4-3ded-4e6e-fc94-5a068a09588b"
      },
      "execution_count": null,
      "outputs": [
        {
          "output_type": "stream",
          "name": "stdout",
          "text": [
            "digite o valor do produto:400\n",
            "Esse produto custa 400 reais\n"
          ]
        }
      ]
    },
    {
      "cell_type": "code",
      "source": [
        "valor_convert = int(valor)\n",
        "desconto = valor_convert - 30\n",
        "print('com o desconto, esse produto custa',desconto,'reais')"
      ],
      "metadata": {
        "colab": {
          "base_uri": "https://localhost:8080/"
        },
        "id": "XdzdD1qw-mK-",
        "outputId": "e0eef52f-174d-442f-c0ed-dd29ed7b425a"
      },
      "execution_count": null,
      "outputs": [
        {
          "output_type": "stream",
          "name": "stdout",
          "text": [
            "com o desconto, esse produto custa 370 reais\n"
          ]
        }
      ]
    },
    {
      "cell_type": "code",
      "source": [],
      "metadata": {
        "id": "pcHjZPnn-vt6"
      },
      "execution_count": null,
      "outputs": []
    }
  ]
}